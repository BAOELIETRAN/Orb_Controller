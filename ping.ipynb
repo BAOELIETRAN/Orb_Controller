{
 "cells": [
  {
   "cell_type": "code",
   "execution_count": 1,
   "id": "0763dcd1-1004-4799-af23-013780caf839",
   "metadata": {},
   "outputs": [
    {
     "name": "stdout",
     "output_type": "stream",
     "text": [
      "[{'count': 30, 'pwr': 480, 'fps': 5, 'maxpwr': 1000, 'maxseg': 32, 'seglc': [1], 'lc': 1, 'rgbw': False, 'wv': 0, 'cct': 0}, None, {'bssid': 'D4:DC:09:A9:E8:F1', 'rssi': -54, 'signal': 92, 'channel': 1}, None, {'bssid': 'D4:DC:09:A9:E8:F1', 'rssi': -54, 'signal': 92, 'channel': 1}, None]\n"
     ]
    }
   ],
   "source": [
    "import numpy as np\n",
    "import requests\n",
    "import logging\n",
    "import random\n",
    "import icmplib\n",
    "\n",
    "_LOGGER = logging.getLogger(__name__)\n",
    "\n",
    "#device is offline or not\n",
    "offline = True\n",
    "\n",
    "#get any param from JSON file from device\n",
    "#if the device is offline --> return random value\n",
    "def get_param(args, ip, paths):\n",
    "    result = []\n",
    "    if args.args.offline:\n",
    "        # generate a random number between 10 and 64\n",
    "        for path in paths:\n",
    "            result.append(random.randint(10, 64))\n",
    "    else:\n",
    "        url = f\"http://{ip}/json/info\"\n",
    "        response = requests.get(url)\n",
    "        response.raise_for_status()\n",
    "        json_data = response.json()\n",
    "        for path in paths:\n",
    "            # Navigate through the JSON structure using each key in the path\n",
    "            value = json_data\n",
    "            for key in path:\n",
    "                value = value.get(key)\n",
    "                if value is None:\n",
    "                    # If any intermediate key is missing, break and append None\n",
    "                    result.append(None)\n",
    "                    break\n",
    "            else:\n",
    "                result.append(value)\n",
    "#    _LOGGER.info(f\"response is {json.dumps(response.json(), indent=4)}\")\n",
    "    return result\n",
    "\n",
    "paths = [['leds', 'fps'], ['wifi', 'rssi'], ['wifi', 'bssid']]\n",
    "print(get_params(\"10.17.192.105\", paths))"
   ]
  }
 ],
 "metadata": {
  "kernelspec": {
   "display_name": "Python 3 (ipykernel)",
   "language": "python",
   "name": "python3"
  },
  "language_info": {
   "codemirror_mode": {
    "name": "ipython",
    "version": 3
   },
   "file_extension": ".py",
   "mimetype": "text/x-python",
   "name": "python",
   "nbconvert_exporter": "python",
   "pygments_lexer": "ipython3",
   "version": "3.11.5"
  }
 },
 "nbformat": 4,
 "nbformat_minor": 5
}
