{
 "cells": [
  {
   "cell_type": "code",
   "execution_count": 1,
   "id": "5a3c7239-a720-4bb5-a6c5-4aaaa34f5d91",
   "metadata": {
    "tags": []
   },
   "outputs": [],
   "source": [
    "import logging\n",
    "from logging.handlers import RotatingFileHandler\n",
    "\n",
    "#config logging setting for the app\n",
    "#allow it to output logs to both the console and a file\n",
    "def setup_logging(log_level):\n",
    "    #if the loglevel is not provided --> log level will become WARNING\n",
    "    console_loglevel = loglevel or logging.WARNING\n",
    "    #set up format for the console log:\n",
    "    console_logformat = \"[%(levelname)-8s] %(name)-30s : %(message)s\"\n",
    "    \n",
    "    file_loglevel = loglevel or logging.WARNING\n",
    "    file_logformat = \"%(asctime)-8s %(name)-30s %(levelname)-8s %(message)s\"\n",
    "    \n",
    "    root_logger = logging.getLogger()\n",
    "    \n",
    "    file_handler = RotatingFileHandler(\n",
    "        \"Orb_controller.log\",\n",
    "        mode=\"a\",  # append\n",
    "        maxBytes=0.5 * 1000 * 1000,  # 512kB\n",
    "        encoding=\"utf8\",\n",
    "        backupCount=5,  # once it hits 2.5MB total, start removing logs.\n",
    "    )\n",
    "    file_handler.setLevel(file_loglevel)      #set loglevel\n",
    "    file_formatter = logging.Formatter(file_logformat)\n",
    "    file_handler.setFormatter(file_formatter)\n",
    "    \n",
    "    console_handler = logging.StreamHandler()\n",
    "    console_handler.setLevel(console_loglevel) #set loglevel\n",
    "    console_formatter = logging.Formatter(console_logformat)\n",
    "    #tell the console_handler to use this format\n",
    "    console_handler.setFormatter(console_formatter)\n",
    "    \n",
    "    #add the handlers to the root logger\n",
    "    root_logger.setLevel(logging.DEBUG)\n",
    "    root_logger.addHandler(console_handler)\n",
    "    root_logger.addHandler(file_handler)\n",
    "    \n",
    "    # suppress some of the overly verbose logs\n",
    "    logging.getLogger(\"sacn\").setLevel(logging.WARNING)\n",
    "    logging.getLogger(\"aiohttp.access\").setLevel(logging.WARNING)\n",
    "    logging.getLogger(\"zeroconf\").setLevel(logging.WARNING)\n",
    "    \n",
    "    global _LOGGER\n",
    "    _LOGGER = logging.getLogger(__name__)"
   ]
  }
 ],
 "metadata": {
  "kernelspec": {
   "display_name": "Python 3 (ipykernel)",
   "language": "python",
   "name": "python3"
  },
  "language_info": {
   "codemirror_mode": {
    "name": "ipython",
    "version": 3
   },
   "file_extension": ".py",
   "mimetype": "text/x-python",
   "name": "python",
   "nbconvert_exporter": "python",
   "pygments_lexer": "ipython3",
   "version": "3.11.5"
  }
 },
 "nbformat": 4,
 "nbformat_minor": 5
}
