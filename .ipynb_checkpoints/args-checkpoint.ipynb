{
 "cells": [
  {
   "cell_type": "code",
   "execution_count": 1,
   "id": "b15f3911-4608-4e55-ad34-586071e3df1a",
   "metadata": {
    "tags": []
   },
   "outputs": [
    {
     "name": "stdout",
     "output_type": "stream",
     "text": [
      "['10.17.192.105', '10.17.192.110', '10.17.192.112']\n"
     ]
    }
   ],
   "source": [
    "# Build an args analyzer:\n",
    "import logging     #used to log messsages (and maybe store that in a file or give it straight to the terminal)\n",
    "import argparse\n",
    "import ipaddress\n",
    "\n",
    "_LOGGER = logging.getLogger(__name__)\n",
    "\n",
    "def process_ip_from_file(file_name):\n",
    "    ip_list = []\n",
    "    with open(file_name,'r') as file:\n",
    "        for line in file:\n",
    "            ip_list.append(line.strip())\n",
    "    print(ip_list)\n",
    "    #if there is at lease one ip address in the list:\n",
    "    if not ip_list:\n",
    "        raise argparse.ArgumentTypeError(\"There needs to be one IP address to process\")\n",
    "    #convert each of the ip address in the list to be ip object:\n",
    "    ip_object = []\n",
    "    for ip_str in ip_list:\n",
    "        try:\n",
    "            ip_object.append(ipaddress.IPv4Address(ip_str.strip()))\n",
    "        except ipaddress.AddressValueError:\n",
    "            raise argparse.ArgumentTypeError(f\"here is an invalid ip address: {ip_str}\")\n",
    "            \n",
    "\n",
    "def main():\n",
    "    process_ip_from_file(\"ip_add.txt\")\n",
    "\n",
    "if __name__ == \"__main__\":\n",
    "    main()"
   ]
  }
 ],
 "metadata": {
  "kernelspec": {
   "display_name": "Python 3 (ipykernel)",
   "language": "python",
   "name": "python3"
  },
  "language_info": {
   "codemirror_mode": {
    "name": "ipython",
    "version": 3
   },
   "file_extension": ".py",
   "mimetype": "text/x-python",
   "name": "python",
   "nbconvert_exporter": "python",
   "pygments_lexer": "ipython3",
   "version": "3.11.5"
  }
 },
 "nbformat": 4,
 "nbformat_minor": 5
}
