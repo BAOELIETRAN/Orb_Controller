{
 "cells": [
  {
   "cell_type": "code",
   "execution_count": null,
   "id": "7e863b66-08fb-47b4-9193-6903c85c5a51",
   "metadata": {},
   "outputs": [],
   "source": [
    "from datetime import datetime\n",
    "\n",
    "# Capture the start time\n",
    "start_time = datetime.now()\n",
    "print(\"Start Time:\", start_time)\n",
    "\n",
    "# Simulate some process with a sleep (for demonstration purposes)\n",
    "import time\n",
    "time.sleep(5)  # Sleep for 5 seconds\n",
    "\n",
    "# Capture the end time\n",
    "end_time = datetime.now()\n",
    "print(\"End Time:\", end_time)\n",
    "\n",
    "# Calculate the interval\n",
    "interval = end_time - start_time\n",
    "\n",
    "# Print the interval\n",
    "print(\"Interval:\", interval)\n",
    "print(\"Total seconds:\", interval.total_seconds())"
   ]
  }
 ],
 "metadata": {
  "kernelspec": {
   "display_name": "Python 3 (ipykernel)",
   "language": "python",
   "name": "python3"
  },
  "language_info": {
   "codemirror_mode": {
    "name": "ipython",
    "version": 3
   },
   "file_extension": ".py",
   "mimetype": "text/x-python",
   "name": "python",
   "nbconvert_exporter": "python",
   "pygments_lexer": "ipython3",
   "version": "3.11.5"
  }
 },
 "nbformat": 4,
 "nbformat_minor": 5
}
