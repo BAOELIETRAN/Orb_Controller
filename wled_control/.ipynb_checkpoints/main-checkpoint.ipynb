{
 "cells": [
  {
   "cell_type": "code",
   "execution_count": 1,
   "id": "1a85b10c-1d81-4d8e-9fde-cc43e3bf2b55",
   "metadata": {
    "tags": []
   },
   "outputs": [
    {
     "name": "stdout",
     "output_type": "stream",
     "text": [
      "importing Jupyter notebook from utils.ipynb\n",
      "importing Jupyter notebook from args.ipynb\n",
      "importing Jupyter notebook from graph.ipynb\n",
      "importing Jupyter notebook from data.ipynb\n"
     ]
    }
   ],
   "source": [
    "import logging\n",
    "import import_ipynb\n",
    "import utils\n",
    "from args import Args\n",
    "import graph\n",
    "\n",
    "args = Args()\n",
    "_LOGGER = logging.getLogger(__name__)\n",
    "\n",
    "def main():\n",
    "    utils.setup_logging(logging.INFO)\n",
    "\n",
    "    args.parse_args()\n",
    "    _LOGGER.info(f\"args are {args.args}\")\n",
    "\n",
    "    graphs.display(args)\n",
    "\n",
    "if __name__ == '__main__':\n",
    "    main()"
   ]
  }
 ],
 "metadata": {
  "kernelspec": {
   "display_name": "Python 3 (ipykernel)",
   "language": "python",
   "name": "python3"
  },
  "language_info": {
   "codemirror_mode": {
    "name": "ipython",
    "version": 3
   },
   "file_extension": ".py",
   "mimetype": "text/x-python",
   "name": "python",
   "nbconvert_exporter": "python",
   "pygments_lexer": "ipython3",
   "version": "3.11.5"
  }
 },
 "nbformat": 4,
 "nbformat_minor": 5
}
