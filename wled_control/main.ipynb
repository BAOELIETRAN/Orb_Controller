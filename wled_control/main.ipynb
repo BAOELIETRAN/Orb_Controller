{
 "cells": [
  {
   "cell_type": "code",
   "execution_count": 1,
   "id": "1a85b10c-1d81-4d8e-9fde-cc43e3bf2b55",
   "metadata": {
    "tags": []
   },
   "outputs": [
    {
     "name": "stdout",
     "output_type": "stream",
     "text": [
      "importing Jupyter notebook from utils.ipynb\n",
      "importing Jupyter notebook from args.ipynb\n",
      "importing Jupyter notebook from graph.ipynb\n",
      "importing Jupyter notebook from data.ipynb\n",
      "['{', '\"shell_port\": 58653,', '\"iopub_port\": 58654,', '\"stdin_port\": 58655,', '\"control_port\": 58657,', '\"hb_port\": 58656,', '\"ip\": \"127.0.0.1\",', '\"key\": \"b5e776fe-75019f8bfcad87b7353ad826\",', '\"transport\": \"tcp\",', '\"signature_scheme\": \"hmac-sha256\",', '\"kernel_name\": \"python3\"', '}']\n"
     ]
    },
    {
     "ename": "ArgumentTypeError",
     "evalue": "here is an invalid ip address: {",
     "output_type": "error",
     "traceback": [
      "\u001b[1;31m---------------------------------------------------------------------------\u001b[0m",
      "\u001b[1;31mAddressValueError\u001b[0m                         Traceback (most recent call last)",
      "File \u001b[1;32m<string>:23\u001b[0m, in \u001b[0;36mprocess_ip_from_file\u001b[1;34m(file_name)\u001b[0m\n",
      "File \u001b[1;32mD:\\RESEARCH\\ANA\\Lib\\ipaddress.py:1315\u001b[0m, in \u001b[0;36mIPv4Address.__init__\u001b[1;34m(self, address)\u001b[0m\n\u001b[0;32m   1314\u001b[0m     \u001b[38;5;28;01mraise\u001b[39;00m AddressValueError(\u001b[38;5;124mf\u001b[39m\u001b[38;5;124m\"\u001b[39m\u001b[38;5;124mUnexpected \u001b[39m\u001b[38;5;124m'\u001b[39m\u001b[38;5;124m/\u001b[39m\u001b[38;5;124m'\u001b[39m\u001b[38;5;124m in \u001b[39m\u001b[38;5;132;01m{\u001b[39;00maddress\u001b[38;5;132;01m!r}\u001b[39;00m\u001b[38;5;124m\"\u001b[39m)\n\u001b[1;32m-> 1315\u001b[0m \u001b[38;5;28mself\u001b[39m\u001b[38;5;241m.\u001b[39m_ip \u001b[38;5;241m=\u001b[39m \u001b[38;5;28mself\u001b[39m\u001b[38;5;241m.\u001b[39m_ip_int_from_string(addr_str)\n",
      "File \u001b[1;32mD:\\RESEARCH\\ANA\\Lib\\ipaddress.py:1202\u001b[0m, in \u001b[0;36m_BaseV4._ip_int_from_string\u001b[1;34m(cls, ip_str)\u001b[0m\n\u001b[0;32m   1201\u001b[0m \u001b[38;5;28;01mif\u001b[39;00m \u001b[38;5;28mlen\u001b[39m(octets) \u001b[38;5;241m!=\u001b[39m \u001b[38;5;241m4\u001b[39m:\n\u001b[1;32m-> 1202\u001b[0m     \u001b[38;5;28;01mraise\u001b[39;00m AddressValueError(\u001b[38;5;124m\"\u001b[39m\u001b[38;5;124mExpected 4 octets in \u001b[39m\u001b[38;5;132;01m%r\u001b[39;00m\u001b[38;5;124m\"\u001b[39m \u001b[38;5;241m%\u001b[39m ip_str)\n\u001b[0;32m   1204\u001b[0m \u001b[38;5;28;01mtry\u001b[39;00m:\n",
      "\u001b[1;31mAddressValueError\u001b[0m: Expected 4 octets in '{'",
      "\nDuring handling of the above exception, another exception occurred:\n",
      "\u001b[1;31mArgumentTypeError\u001b[0m                         Traceback (most recent call last)",
      "Cell \u001b[1;32mIn[1], line 7\u001b[0m\n\u001b[0;32m      4\u001b[0m \u001b[38;5;28;01mfrom\u001b[39;00m \u001b[38;5;21;01margs\u001b[39;00m \u001b[38;5;28;01mimport\u001b[39;00m Args\n\u001b[0;32m      5\u001b[0m \u001b[38;5;28;01mimport\u001b[39;00m \u001b[38;5;21;01mgraph\u001b[39;00m\n\u001b[1;32m----> 7\u001b[0m args \u001b[38;5;241m=\u001b[39m Args()\n\u001b[0;32m      8\u001b[0m _LOGGER \u001b[38;5;241m=\u001b[39m logging\u001b[38;5;241m.\u001b[39mgetLogger(\u001b[38;5;18m__name__\u001b[39m)\n\u001b[0;32m     10\u001b[0m \u001b[38;5;28;01mdef\u001b[39;00m \u001b[38;5;21mmain\u001b[39m():\n",
      "File \u001b[1;32m<string>:49\u001b[0m, in \u001b[0;36m__init__\u001b[1;34m(self)\u001b[0m\n",
      "File \u001b[1;32m<string>:26\u001b[0m, in \u001b[0;36mprocess_ip_from_file\u001b[1;34m(file_name)\u001b[0m\n",
      "\u001b[1;31mArgumentTypeError\u001b[0m: here is an invalid ip address: {"
     ]
    }
   ],
   "source": [
    "import logging\n",
    "import import_ipynb\n",
    "import utils\n",
    "from args import Args\n",
    "import graph\n",
    "\n",
    "args = Args()\n",
    "_LOGGER = logging.getLogger(__name__)\n",
    "\n",
    "def main():\n",
    "    utils.setup_logging(logging.INFO)\n",
    "\n",
    "    args.parse_args()\n",
    "    _LOGGER.info(f\"args are {args.args}\")\n",
    "\n",
    "    graphs.display(args)\n",
    "\n",
    "if __name__ == '__main__':\n",
    "    main()"
   ]
  }
 ],
 "metadata": {
  "kernelspec": {
   "display_name": "Python 3 (ipykernel)",
   "language": "python",
   "name": "python3"
  },
  "language_info": {
   "codemirror_mode": {
    "name": "ipython",
    "version": 3
   },
   "file_extension": ".py",
   "mimetype": "text/x-python",
   "name": "python",
   "nbconvert_exporter": "python",
   "pygments_lexer": "ipython3",
   "version": "3.11.5"
  }
 },
 "nbformat": 4,
 "nbformat_minor": 5
}
